{
 "cells": [
  {
   "cell_type": "code",
   "execution_count": 1,
   "id": "064e7425-4615-4c5e-99a9-94dc27e4b4d9",
   "metadata": {},
   "outputs": [],
   "source": [
    "# Q1.\n",
    "# A class is a template or blueprint that defines the properties and behaviors of objects, while an object is a specific instance of a class that holds its own set of attribute values and can perform the defined methods.\n",
    "\n",
    "class car:\n",
    "    def __init__(self, color, model, price):\n",
    "        self.color = color\n",
    "        self.model = model\n",
    "        self.price = price\n",
    "        \n",
    "    def start(self):\n",
    "        print(\"The car has been started\")\n",
    "        \n",
    "    def stop(self):\n",
    "        print(\"The car has stopped.\")\n",
    "        \n",
    "    def accelerate(self):\n",
    "        print(\"The car is being accelerated.\")\n",
    "        \n",
    "maruti = car('blue', 'Breza', '14 lakh')\n",
    "\n",
    "# In above example, car is a class and maruti is an object of class car."
   ]
  },
  {
   "cell_type": "code",
   "execution_count": 2,
   "id": "f37551c0-443a-4840-a981-1dfcc8854c49",
   "metadata": {},
   "outputs": [],
   "source": [
    "# Q2.\n",
    "# The four pillars of OOPs are following:\n",
    "#     1. Encapsulation\n",
    "#     2. Inheritance\n",
    "#     3. Polymorphism\n",
    "#     4. Abstraction"
   ]
  },
  {
   "cell_type": "code",
   "execution_count": 4,
   "id": "15fe5666-bfa4-4d1e-8d61-a567ad11dea4",
   "metadata": {},
   "outputs": [],
   "source": [
    "# Q3.\n",
    "# By using __init__(), we initialize the object's attributes.\n",
    "\n",
    "class car:\n",
    "    def __init__(self, color, model, price):\n",
    "        self.color = color\n",
    "        self.model = model\n",
    "        self.price = price\n",
    "        \n",
    "    def start(self):\n",
    "        print(\"The car has been started\")\n",
    "\n",
    "maruti = car('blue', 'Breza', '14 lakh')\n",
    "\n",
    "# In the above example, __init__() initialize the attributes(color, model, price) of object(maruti) of class car."
   ]
  },
  {
   "cell_type": "code",
   "execution_count": 5,
   "id": "305e09bf-31b4-4be8-afd3-ee376f6d740d",
   "metadata": {},
   "outputs": [],
   "source": [
    "# Q4.\n",
    "# In object-oriented programming (OOP) in Python, the self parameter is used to refer to the instance of a class within its own methods.\n",
    "# The use of self is essential in Python classes because it helps differentiate between instance variables (attributes) and local variables within a method."
   ]
  },
  {
   "cell_type": "code",
   "execution_count": 6,
   "id": "cec614a4-f187-4330-8e19-2791677b0be1",
   "metadata": {},
   "outputs": [],
   "source": [
    "# # Q5.\n",
    "# Inheritance allows a class (called the child class) to inherit the properties and behaviors of another class (called the parent class).\n",
    "\n",
    "# Different types of inheritance:-\n",
    "\n",
    "    # 1. Single inheritance:-\n",
    "    \n",
    "class Animal:\n",
    "    def eat(self):\n",
    "        print(\"Eating...\")\n",
    "\n",
    "class Dog(Animal):\n",
    "    def bark(self):\n",
    "        print(\"Woof!\")\n",
    "    \n",
    "    # 2. Multiple Inheritance:-\n",
    "    \n",
    "class Fish:\n",
    "    def swim(self):\n",
    "        print(\"Swimming...\")\n",
    "\n",
    "class Mammal:\n",
    "    def run(self):\n",
    "        print(\"Running...\")\n",
    "\n",
    "class Dolphin(Fish, Mammal):\n",
    "    def jump(self):\n",
    "        print(\"Jumping!\")\n",
    "    \n",
    "    # 3. Multilevel Inheritance:-\n",
    "    \n",
    "class Vehicle:\n",
    "    def start(self):\n",
    "        print(\"Starting vehicle...\")\n",
    "\n",
    "class Car(Vehicle):\n",
    "    def drive(self):\n",
    "        print(\"Driving car...\")\n",
    "\n",
    "class SportsCar(Car):\n",
    "    def accelerate(self):\n",
    "        print(\"Accelerating sports car...\")\n",
    "        \n",
    "    # 4. Hierarchial Inheritance:- \n",
    "    \n",
    "class Shape:\n",
    "    def draw(self):\n",
    "        print(\"Drawing shape...\")\n",
    "\n",
    "class Circle(Shape):\n",
    "    def draw(self):\n",
    "        print(\"Drawing circle...\")\n",
    "\n",
    "class Rectangle(Shape):\n",
    "    def draw(self):\n",
    "        print(\"Drawing rectangle...\")"
   ]
  },
  {
   "cell_type": "code",
   "execution_count": null,
   "id": "75f6c4eb-848c-49d7-a946-62f42b8dd2a1",
   "metadata": {},
   "outputs": [],
   "source": []
  }
 ],
 "metadata": {
  "kernelspec": {
   "display_name": "Python 3 (ipykernel)",
   "language": "python",
   "name": "python3"
  },
  "language_info": {
   "codemirror_mode": {
    "name": "ipython",
    "version": 3
   },
   "file_extension": ".py",
   "mimetype": "text/x-python",
   "name": "python",
   "nbconvert_exporter": "python",
   "pygments_lexer": "ipython3",
   "version": "3.10.8"
  }
 },
 "nbformat": 4,
 "nbformat_minor": 5
}
